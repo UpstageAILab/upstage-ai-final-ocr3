{
 "cells": [
  {
   "cell_type": "code",
   "execution_count": 5,
   "metadata": {},
   "outputs": [],
   "source": [
    "import os\n",
    "import shutil\n",
    "from tqdm.notebook import tqdm"
   ]
  },
  {
   "cell_type": "code",
   "execution_count": 2,
   "metadata": {},
   "outputs": [],
   "source": [
    "train_folder = \"/data/datasets/images/train\"\n",
    "new_data_folder = \"/data/datasets/032.공공행정문서_OCR/01.데이터/01.Training/02.원천데이터(jpg)\""
   ]
  },
  {
   "cell_type": "code",
   "execution_count": 7,
   "metadata": {},
   "outputs": [],
   "source": [
    "file_names = []\n",
    "for cat1 in os.listdir(f\"{new_data_folder}/\"):\n",
    "    jpg_path = f\"{new_data_folder}/{cat1}\"\n",
    "    for cat2 in os.listdir(jpg_path):\n",
    "        jpg_path = f\"{new_data_folder}/{cat1}/{cat2}\"\n",
    "        for year in os.listdir(jpg_path):\n",
    "            jpg_path = f\"{new_data_folder}/{cat1}/{cat2}/{year}\"\n",
    "            for file_name in os.listdir(jpg_path):\n",
    "                file_names.append((jpg_path,file_name))"
   ]
  },
  {
   "cell_type": "code",
   "execution_count": 9,
   "metadata": {},
   "outputs": [
    {
     "data": {
      "application/vnd.jupyter.widget-view+json": {
       "model_id": "a62f3d645aad4eb89069930a4a8e368d",
       "version_major": 2,
       "version_minor": 0
      },
      "text/plain": [
       "  0%|          | 0/33823 [00:00<?, ?it/s]"
      ]
     },
     "metadata": {},
     "output_type": "display_data"
    }
   ],
   "source": [
    "for jpg_path,file_name in tqdm(file_names):\n",
    "    shutil.copy(f\"{jpg_path}/{file_name}\", f\"{train_folder}/{file_name}\")"
   ]
  }
 ],
 "metadata": {
  "kernelspec": {
   "display_name": "Python 3",
   "language": "python",
   "name": "python3"
  },
  "language_info": {
   "codemirror_mode": {
    "name": "ipython",
    "version": 3
   },
   "file_extension": ".py",
   "mimetype": "text/x-python",
   "name": "python",
   "nbconvert_exporter": "python",
   "pygments_lexer": "ipython3",
   "version": "3.11.9"
  }
 },
 "nbformat": 4,
 "nbformat_minor": 2
}
