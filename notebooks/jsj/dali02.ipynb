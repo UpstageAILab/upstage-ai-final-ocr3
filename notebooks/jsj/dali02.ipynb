{
 "cells": [
  {
   "cell_type": "code",
   "execution_count": 1,
   "metadata": {},
   "outputs": [],
   "source": [
    "from nvidia.dali.pipeline import Pipeline\n",
    "from nvidia.dali import pipeline_def\n",
    "import nvidia.dali.fn as fn\n",
    "import nvidia.dali.types as types\n",
    "from nvidia.dali.plugin.pytorch import DALIGenericIterator\n",
    "\n",
    "import torchvision.models as models\n",
    "resnet18 = models.resnet18()\n",
    "\n",
    "from time import time"
   ]
  },
  {
   "cell_type": "code",
   "execution_count": 3,
   "metadata": {},
   "outputs": [
    {
     "name": "stderr",
     "output_type": "stream",
     "text": [
      "/data/ephemeral/home/baseline_code/.conda/lib/python3.11/site-packages/nvidia/dali/backend.py:99: Warning: nvidia-dali-cuda120 is no longer shipped with CUDA runtime. You need to install it separately. cuFFT is typically provided with CUDA Toolkit installation or an appropriate wheel. Please check https://docs.nvidia.com/cuda/cuda-quick-start-guide/index.html#pip-wheels-installation-linux for the reference.\n",
      "  deprecation_warning(\n",
      "/data/ephemeral/home/baseline_code/.conda/lib/python3.11/site-packages/nvidia/dali/backend.py:110: Warning: nvidia-dali-cuda120 is no longer shipped with CUDA runtime. You need to install it separately. NPP is typically provided with CUDA Toolkit installation or an appropriate wheel. Please check https://docs.nvidia.com/cuda/cuda-quick-start-guide/index.html#pip-wheels-installation-linux for the reference.\n",
      "  deprecation_warning(\n",
      "/data/ephemeral/home/baseline_code/.conda/lib/python3.11/site-packages/nvidia/dali/backend.py:121: Warning: nvidia-dali-cuda120 is no longer shipped with CUDA runtime. You need to install it separately. nvJPEG is typically provided with CUDA Toolkit installation or an appropriate wheel. Please check https://docs.nvidia.com/cuda/cuda-quick-start-guide/index.html#pip-wheels-installation-linux for the reference.\n",
      "  deprecation_warning(\n"
     ]
    },
    {
     "ename": "RuntimeError",
     "evalue": "Critical error when building pipeline:\nError in CPU operator `nvidia.dali.fn.readers.file`,\nwhich was used in the pipeline definition with the following traceback:\n\n  File \"/tmp/ipykernel_566431/1977029101.py\", line 4, in simple_mixed_pipeline\n    jpegs, labels = fn.readers.file(file_root=data_dir)\n\nencountered:\n\nAssert on \"SizeImpl() > 0\" failed: No files found.\nC++ context: [/opt/dali/dali/operators/reader/loader/file_label_loader.h:180] \nCurrent pipeline object is no longer valid.",
     "output_type": "error",
     "traceback": [
      "\u001b[0;31m---------------------------------------------------------------------------\u001b[0m",
      "\u001b[0;31mRuntimeError\u001b[0m                              Traceback (most recent call last)",
      "Cell \u001b[0;32mIn[3], line 12\u001b[0m\n\u001b[1;32m     10\u001b[0m pipe \u001b[38;5;241m=\u001b[39m simple_mixed_pipeline(batch_size\u001b[38;5;241m=\u001b[39m\u001b[38;5;241m8\u001b[39m, num_threads\u001b[38;5;241m=\u001b[39m\u001b[38;5;241m2\u001b[39m, device_id\u001b[38;5;241m=\u001b[39m\u001b[38;5;241m0\u001b[39m)\n\u001b[1;32m     11\u001b[0m start \u001b[38;5;241m=\u001b[39m time()\n\u001b[0;32m---> 12\u001b[0m \u001b[43mpipe\u001b[49m\u001b[38;5;241;43m.\u001b[39;49m\u001b[43mbuild\u001b[49m\u001b[43m(\u001b[49m\u001b[43m)\u001b[49m\n\u001b[1;32m     13\u001b[0m pipe_out \u001b[38;5;241m=\u001b[39m pipe\u001b[38;5;241m.\u001b[39mrun()\n\u001b[1;32m     14\u001b[0m end \u001b[38;5;241m=\u001b[39m time()\n",
      "File \u001b[0;32m~/baseline_code/.conda/lib/python3.11/site-packages/nvidia/dali/pipeline.py:982\u001b[0m, in \u001b[0;36mPipeline.build\u001b[0;34m(self)\u001b[0m\n\u001b[1;32m    979\u001b[0m     \u001b[38;5;28mself\u001b[39m\u001b[38;5;241m.\u001b[39m_init_pipeline_backend()\n\u001b[1;32m    980\u001b[0m \u001b[38;5;28mself\u001b[39m\u001b[38;5;241m.\u001b[39m_setup_pipe_pool_dependency()\n\u001b[0;32m--> 982\u001b[0m \u001b[38;5;28;43mself\u001b[39;49m\u001b[38;5;241;43m.\u001b[39;49m\u001b[43m_pipe\u001b[49m\u001b[38;5;241;43m.\u001b[39;49m\u001b[43mBuild\u001b[49m\u001b[43m(\u001b[49m\u001b[38;5;28;43mself\u001b[39;49m\u001b[38;5;241;43m.\u001b[39;49m\u001b[43m_generate_build_args\u001b[49m\u001b[43m(\u001b[49m\u001b[43m)\u001b[49m\u001b[43m)\u001b[49m\n\u001b[1;32m    983\u001b[0m \u001b[38;5;28mself\u001b[39m\u001b[38;5;241m.\u001b[39m_restore_state_from_checkpoint()\n\u001b[1;32m    984\u001b[0m \u001b[38;5;28mself\u001b[39m\u001b[38;5;241m.\u001b[39m_built \u001b[38;5;241m=\u001b[39m \u001b[38;5;28;01mTrue\u001b[39;00m\n",
      "\u001b[0;31mRuntimeError\u001b[0m: Critical error when building pipeline:\nError in CPU operator `nvidia.dali.fn.readers.file`,\nwhich was used in the pipeline definition with the following traceback:\n\n  File \"/tmp/ipykernel_566431/1977029101.py\", line 4, in simple_mixed_pipeline\n    jpegs, labels = fn.readers.file(file_root=data_dir)\n\nencountered:\n\nAssert on \"SizeImpl() > 0\" failed: No files found.\nC++ context: [/opt/dali/dali/operators/reader/loader/file_label_loader.h:180] \nCurrent pipeline object is no longer valid."
     ]
    }
   ],
   "source": [
    "data_dir = \"augraphy_cache\"\n",
    "@pipeline_def(batch_size=128, num_threads=4, device_id=0)\n",
    "def simple_mixed_pipeline():\n",
    "    jpegs, labels = fn.readers.file(file_root=data_dir)\n",
    "    images = fn.decoders.image(jpegs, device=\"mixed\")\n",
    "\n",
    "    return images, labels\n",
    "\n",
    "\n",
    "pipe = simple_mixed_pipeline(batch_size=8, num_threads=2, device_id=0)\n",
    "start = time()\n",
    "pipe.build()\n",
    "pipe_out = pipe.run()\n",
    "end = time()\n",
    "print(pipe_out)\n"
   ]
  },
  {
   "cell_type": "markdown",
   "metadata": {},
   "source": [
    "# 앞으로 돌려봐야할 것"
   ]
  },
  {
   "cell_type": "code",
   "execution_count": null,
   "metadata": {},
   "outputs": [],
   "source": [
    "\n",
    "\n",
    "data_dir = \"./test_DALI/images/\"\n",
    "\n",
    "\n",
    "@pipeline_def(batch_size=128, num_threads=4, device_id=0)\n",
    "def get_dali_pipeline(data_dir, crop_size):\n",
    "  images, labels = fn.readers.file(file_root=data_dir)\n",
    "  # decode data on the GPU\n",
    "  images = fn.decoders.image_random_crop(images, device=\"mixed\", output_type=types.RGB)\n",
    "  # the rest of processing happens on the GPU as well\n",
    "  images = fn.resize(images, resize_x=crop_size, resize_y=crop_size)\n",
    "  images = fn.crop_mirror_normalize(images,\n",
    "                                    mean=[0.485 * 255,0.456 * 255,0.406 * 255],\n",
    "                                    std=[0.229 * 255,0.224 * 255,0.225 * 255],\n",
    "                                    mirror=fn.random.coin_flip())\n",
    "  return images, label\n",
    "\n",
    "\n",
    "train_data = DALIGenericIterator(\n",
    "   [get_dali_pipeline(data_dir, (224, 224))], ['data', 'label'], reader_name='Reader')\n",
    "\n",
    "\n",
    "for i, data in enumerate(train_data):\n",
    "  x, y = data[0]['data'], data[0]['label']\n",
    "  pred = resnet18(x)\n",
    "  # loss = loss_func(pred, y)\n",
    "  # backward(loss, model)"
   ]
  }
 ],
 "metadata": {
  "kernelspec": {
   "display_name": "Python 3",
   "language": "python",
   "name": "python3"
  },
  "language_info": {
   "codemirror_mode": {
    "name": "ipython",
    "version": 3
   },
   "file_extension": ".py",
   "mimetype": "text/x-python",
   "name": "python",
   "nbconvert_exporter": "python",
   "pygments_lexer": "ipython3",
   "version": "3.11.9"
  }
 },
 "nbformat": 4,
 "nbformat_minor": 2
}
