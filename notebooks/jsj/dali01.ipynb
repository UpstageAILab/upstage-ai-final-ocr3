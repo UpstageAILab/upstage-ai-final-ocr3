{
 "cells": [
  {
   "cell_type": "code",
   "execution_count": 1,
   "metadata": {},
   "outputs": [],
   "source": [
    "import cv2\n",
    "import numpy as np\n",
    "import matplotlib.pyplot as plt\n",
    "from PIL import Image\n",
    "import nvidia.dali as dali\n",
    "import nvidia.dali.types as types\n",
    "import nvidia.dali.fn as fn\n",
    "from nvidia.dali.pipeline import Pipeline\n",
    "import random"
   ]
  },
  {
   "cell_type": "code",
   "execution_count": 14,
   "metadata": {},
   "outputs": [],
   "source": [
    "# DALI 파이프라인 설정\n",
    "batch_size = 1\n",
    "num_threads = 2\n",
    "device_id = 0\n",
    "\n",
    "# 이미지 로드 및 초기 변환 적용\n",
    "@dali.pipeline_def\n",
    "def dali_pipeline():\n",
    "    # 이미지 로드\n",
    "    jpegs, _ = fn.readers.file(file_root=\"./augraphy_cache\")\n",
    "    images = fn.decoders.image(jpegs, device=\"mixed\")\n",
    "\n",
    "    # InkBleed 효과: GaussianBlur로 구현\n",
    "    blurred_images = fn.gaussian_blur(images, window_size=random.choice([(5, 5), (3, 3)]), sigma=0.4)\n",
    "\n",
    "    # LightingGradient 효과: 조명 및 밝기 변화\n",
    "    brightened_images = fn.brightness_contrast(blurred_images, brightness_shift=0.3)\n",
    "\n",
    "    # OneOf 효과: InkShifter 또는 BleedThrough 유사 구현\n",
    "    # InkShifter 효과: 텍스트 이동, 블러 및 노이즈 추가\n",
    "    shifted_images = fn.rotate(brightened_images, angle=random.uniform(18, 23))\n",
    "    noise_images = fn.noise.salt_and_pepper(shifted_images, prob=random.uniform(0, 0.02))\n",
    "\n",
    "    # BleedThrough 효과: 이미지 블러 및 색상 변형\n",
    "    bleed_images = fn.gaussian_blur(noise_images, window_size=(17, 17), sigma=1)\n",
    "\n",
    "    # Paper Phase 효과: BrightnessTexturize 유사 구현\n",
    "    textured_images = fn.brightness_contrast(bleed_images, brightness_shift=0.99)\n",
    "\n",
    "    # Post Phase 효과: Jpeg, Scribbles, Faxify 유사 구현\n",
    "    # Jpeg 효과: 압축 효과 재현\n",
    "    # jpeg_images = fn.jpeg_compression(textured_images, quality=15)\n",
    "\n",
    "    # Scribbles 효과: 임의의 선 추가\n",
    "    # scribbled_images = fn.drawing.lines(jpeg_images, num_lines=2, line_width=2)\n",
    "\n",
    "    # Faxify 효과: 스케일, 색상 및 회전 변환\n",
    "    faxified_images = fn.rotate(textured_images, angle=random.uniform(0, 360))\n",
    "    faxified_images = fn.gaussian_blur(faxified_images, window_size=(2, 2), sigma=random.uniform(1, 3))\n",
    "\n",
    "    return faxified_images"
   ]
  },
  {
   "cell_type": "code",
   "execution_count": 15,
   "metadata": {},
   "outputs": [
    {
     "ename": "RuntimeError",
     "evalue": "Critical error when building pipeline:\nError in CPU operator `nvidia.dali.fn.readers.file`,\nwhich was used in the pipeline definition with the following traceback:\n\n  File \"/tmp/ipykernel_528459/1836649944.py\", line 10, in dali_pipeline\n    jpegs, _ = fn.readers.file(file_root=\"./augraphy_cache\")\n\nencountered:\n\nAssert on \"SizeImpl() > 0\" failed: No files found.\nC++ context: [/opt/dali/dali/operators/reader/loader/file_label_loader.h:180] \nCurrent pipeline object is no longer valid.",
     "output_type": "error",
     "traceback": [
      "\u001b[0;31m---------------------------------------------------------------------------\u001b[0m",
      "\u001b[0;31mRuntimeError\u001b[0m                              Traceback (most recent call last)",
      "Cell \u001b[0;32mIn[15], line 5\u001b[0m\n\u001b[1;32m      2\u001b[0m pipeline \u001b[38;5;241m=\u001b[39m dali_pipeline(batch_size\u001b[38;5;241m=\u001b[39mbatch_size, num_threads\u001b[38;5;241m=\u001b[39mnum_threads, device_id\u001b[38;5;241m=\u001b[39mdevice_id)\n\u001b[1;32m      4\u001b[0m \u001b[38;5;66;03m# 파이프라인 실행\u001b[39;00m\n\u001b[0;32m----> 5\u001b[0m \u001b[43mpipeline\u001b[49m\u001b[38;5;241;43m.\u001b[39;49m\u001b[43mbuild\u001b[49m\u001b[43m(\u001b[49m\u001b[43m)\u001b[49m\n\u001b[1;32m      6\u001b[0m outputs \u001b[38;5;241m=\u001b[39m pipeline\u001b[38;5;241m.\u001b[39mrun()\n",
      "File \u001b[0;32m~/baseline_code/.conda/lib/python3.11/site-packages/nvidia/dali/pipeline.py:982\u001b[0m, in \u001b[0;36mPipeline.build\u001b[0;34m(self)\u001b[0m\n\u001b[1;32m    979\u001b[0m     \u001b[38;5;28mself\u001b[39m\u001b[38;5;241m.\u001b[39m_init_pipeline_backend()\n\u001b[1;32m    980\u001b[0m \u001b[38;5;28mself\u001b[39m\u001b[38;5;241m.\u001b[39m_setup_pipe_pool_dependency()\n\u001b[0;32m--> 982\u001b[0m \u001b[38;5;28;43mself\u001b[39;49m\u001b[38;5;241;43m.\u001b[39;49m\u001b[43m_pipe\u001b[49m\u001b[38;5;241;43m.\u001b[39;49m\u001b[43mBuild\u001b[49m\u001b[43m(\u001b[49m\u001b[38;5;28;43mself\u001b[39;49m\u001b[38;5;241;43m.\u001b[39;49m\u001b[43m_generate_build_args\u001b[49m\u001b[43m(\u001b[49m\u001b[43m)\u001b[49m\u001b[43m)\u001b[49m\n\u001b[1;32m    983\u001b[0m \u001b[38;5;28mself\u001b[39m\u001b[38;5;241m.\u001b[39m_restore_state_from_checkpoint()\n\u001b[1;32m    984\u001b[0m \u001b[38;5;28mself\u001b[39m\u001b[38;5;241m.\u001b[39m_built \u001b[38;5;241m=\u001b[39m \u001b[38;5;28;01mTrue\u001b[39;00m\n",
      "\u001b[0;31mRuntimeError\u001b[0m: Critical error when building pipeline:\nError in CPU operator `nvidia.dali.fn.readers.file`,\nwhich was used in the pipeline definition with the following traceback:\n\n  File \"/tmp/ipykernel_528459/1836649944.py\", line 10, in dali_pipeline\n    jpegs, _ = fn.readers.file(file_root=\"./augraphy_cache\")\n\nencountered:\n\nAssert on \"SizeImpl() > 0\" failed: No files found.\nC++ context: [/opt/dali/dali/operators/reader/loader/file_label_loader.h:180] \nCurrent pipeline object is no longer valid."
     ]
    }
   ],
   "source": [
    "# 파이프라인 실행\n",
    "pipeline = dali_pipeline(batch_size=batch_size, num_threads=num_threads, device_id=device_id)\n",
    "\n",
    "# 파이프라인 실행\n",
    "pipeline.build()\n",
    "outputs = pipeline.run()"
   ]
  },
  {
   "cell_type": "code",
   "execution_count": null,
   "metadata": {},
   "outputs": [],
   "source": [
    "\"\"\"\n",
    "# 결과 이미지 저장\n",
    "import numpy as np\n",
    "import cv2\n",
    "for i, output in enumerate(outputs[0].as_cpu().as_array()):\n",
    "    cv2.imwrite(f\"output_{i}.jpg\", output)\n",
    "\"\"\""
   ]
  }
 ],
 "metadata": {
  "kernelspec": {
   "display_name": "Python 3",
   "language": "python",
   "name": "python3"
  },
  "language_info": {
   "codemirror_mode": {
    "name": "ipython",
    "version": 3
   },
   "file_extension": ".py",
   "mimetype": "text/x-python",
   "name": "python",
   "nbconvert_exporter": "python",
   "pygments_lexer": "ipython3",
   "version": "3.11.9"
  }
 },
 "nbformat": 4,
 "nbformat_minor": 2
}
